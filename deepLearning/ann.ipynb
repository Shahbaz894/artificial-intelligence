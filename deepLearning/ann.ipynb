{
 "cells": [
  {
   "cell_type": "code",
   "execution_count": 1,
   "metadata": {},
   "outputs": [],
   "source": [
    "import pandas as pd\n"
   ]
  },
  {
   "cell_type": "code",
   "execution_count": 3,
   "metadata": {},
   "outputs": [],
   "source": [
    "df = pd.read_csv('Churn_Modelling.csv')"
   ]
  },
  {
   "cell_type": "code",
   "execution_count": 6,
   "metadata": {},
   "outputs": [
    {
     "data": {
      "text/html": [
       "<div>\n",
       "<style scoped>\n",
       "    .dataframe tbody tr th:only-of-type {\n",
       "        vertical-align: middle;\n",
       "    }\n",
       "\n",
       "    .dataframe tbody tr th {\n",
       "        vertical-align: top;\n",
       "    }\n",
       "\n",
       "    .dataframe thead th {\n",
       "        text-align: right;\n",
       "    }\n",
       "</style>\n",
       "<table border=\"1\" class=\"dataframe\">\n",
       "  <thead>\n",
       "    <tr style=\"text-align: right;\">\n",
       "      <th></th>\n",
       "      <th>CreditScore</th>\n",
       "      <th>Geography</th>\n",
       "      <th>Gender</th>\n",
       "      <th>Age</th>\n",
       "      <th>Tenure</th>\n",
       "      <th>Balance</th>\n",
       "      <th>NumOfProducts</th>\n",
       "      <th>HasCrCard</th>\n",
       "      <th>IsActiveMember</th>\n",
       "      <th>EstimatedSalary</th>\n",
       "      <th>Exited</th>\n",
       "    </tr>\n",
       "  </thead>\n",
       "  <tbody>\n",
       "    <tr>\n",
       "      <th>0</th>\n",
       "      <td>619</td>\n",
       "      <td>France</td>\n",
       "      <td>Female</td>\n",
       "      <td>42</td>\n",
       "      <td>2</td>\n",
       "      <td>0.00</td>\n",
       "      <td>1</td>\n",
       "      <td>1</td>\n",
       "      <td>1</td>\n",
       "      <td>101348.88</td>\n",
       "      <td>1</td>\n",
       "    </tr>\n",
       "    <tr>\n",
       "      <th>1</th>\n",
       "      <td>608</td>\n",
       "      <td>Spain</td>\n",
       "      <td>Female</td>\n",
       "      <td>41</td>\n",
       "      <td>1</td>\n",
       "      <td>83807.86</td>\n",
       "      <td>1</td>\n",
       "      <td>0</td>\n",
       "      <td>1</td>\n",
       "      <td>112542.58</td>\n",
       "      <td>0</td>\n",
       "    </tr>\n",
       "    <tr>\n",
       "      <th>2</th>\n",
       "      <td>502</td>\n",
       "      <td>France</td>\n",
       "      <td>Female</td>\n",
       "      <td>42</td>\n",
       "      <td>8</td>\n",
       "      <td>159660.80</td>\n",
       "      <td>3</td>\n",
       "      <td>1</td>\n",
       "      <td>0</td>\n",
       "      <td>113931.57</td>\n",
       "      <td>1</td>\n",
       "    </tr>\n",
       "    <tr>\n",
       "      <th>3</th>\n",
       "      <td>699</td>\n",
       "      <td>France</td>\n",
       "      <td>Female</td>\n",
       "      <td>39</td>\n",
       "      <td>1</td>\n",
       "      <td>0.00</td>\n",
       "      <td>2</td>\n",
       "      <td>0</td>\n",
       "      <td>0</td>\n",
       "      <td>93826.63</td>\n",
       "      <td>0</td>\n",
       "    </tr>\n",
       "    <tr>\n",
       "      <th>4</th>\n",
       "      <td>850</td>\n",
       "      <td>Spain</td>\n",
       "      <td>Female</td>\n",
       "      <td>43</td>\n",
       "      <td>2</td>\n",
       "      <td>125510.82</td>\n",
       "      <td>1</td>\n",
       "      <td>1</td>\n",
       "      <td>1</td>\n",
       "      <td>79084.10</td>\n",
       "      <td>0</td>\n",
       "    </tr>\n",
       "  </tbody>\n",
       "</table>\n",
       "</div>"
      ],
      "text/plain": [
       "   CreditScore Geography  Gender  Age  Tenure    Balance  NumOfProducts  \\\n",
       "0          619    France  Female   42       2       0.00              1   \n",
       "1          608     Spain  Female   41       1   83807.86              1   \n",
       "2          502    France  Female   42       8  159660.80              3   \n",
       "3          699    France  Female   39       1       0.00              2   \n",
       "4          850     Spain  Female   43       2  125510.82              1   \n",
       "\n",
       "   HasCrCard  IsActiveMember  EstimatedSalary  Exited  \n",
       "0          1               1        101348.88       1  \n",
       "1          0               1        112542.58       0  \n",
       "2          1               0        113931.57       1  \n",
       "3          0               0         93826.63       0  \n",
       "4          1               1         79084.10       0  "
      ]
     },
     "execution_count": 6,
     "metadata": {},
     "output_type": "execute_result"
    }
   ],
   "source": [
    "df.head()"
   ]
  },
  {
   "cell_type": "code",
   "execution_count": 5,
   "metadata": {},
   "outputs": [],
   "source": [
    "df.drop(columns = ['RowNumber','CustomerId','Surname'],inplace=True)"
   ]
  },
  {
   "cell_type": "code",
   "execution_count": 7,
   "metadata": {},
   "outputs": [
    {
     "data": {
      "text/plain": [
       "Geography\n",
       "France     5014\n",
       "Germany    2509\n",
       "Spain      2477\n",
       "Name: count, dtype: int64"
      ]
     },
     "execution_count": 7,
     "metadata": {},
     "output_type": "execute_result"
    }
   ],
   "source": [
    "df['Geography'].value_counts()"
   ]
  },
  {
   "cell_type": "code",
   "execution_count": 8,
   "metadata": {},
   "outputs": [
    {
     "data": {
      "text/plain": [
       "Gender\n",
       "Male      5457\n",
       "Female    4543\n",
       "Name: count, dtype: int64"
      ]
     },
     "execution_count": 8,
     "metadata": {},
     "output_type": "execute_result"
    }
   ],
   "source": [
    "df['Gender'].value_counts()"
   ]
  },
  {
   "cell_type": "code",
   "execution_count": 9,
   "metadata": {},
   "outputs": [],
   "source": [
    "df = pd.get_dummies(df,columns=['Geography','Gender'],drop_first=True)"
   ]
  },
  {
   "cell_type": "code",
   "execution_count": 10,
   "metadata": {},
   "outputs": [
    {
     "data": {
      "text/html": [
       "<div>\n",
       "<style scoped>\n",
       "    .dataframe tbody tr th:only-of-type {\n",
       "        vertical-align: middle;\n",
       "    }\n",
       "\n",
       "    .dataframe tbody tr th {\n",
       "        vertical-align: top;\n",
       "    }\n",
       "\n",
       "    .dataframe thead th {\n",
       "        text-align: right;\n",
       "    }\n",
       "</style>\n",
       "<table border=\"1\" class=\"dataframe\">\n",
       "  <thead>\n",
       "    <tr style=\"text-align: right;\">\n",
       "      <th></th>\n",
       "      <th>CreditScore</th>\n",
       "      <th>Age</th>\n",
       "      <th>Tenure</th>\n",
       "      <th>Balance</th>\n",
       "      <th>NumOfProducts</th>\n",
       "      <th>HasCrCard</th>\n",
       "      <th>IsActiveMember</th>\n",
       "      <th>EstimatedSalary</th>\n",
       "      <th>Exited</th>\n",
       "      <th>Geography_Germany</th>\n",
       "      <th>Geography_Spain</th>\n",
       "      <th>Gender_Male</th>\n",
       "    </tr>\n",
       "  </thead>\n",
       "  <tbody>\n",
       "    <tr>\n",
       "      <th>0</th>\n",
       "      <td>619</td>\n",
       "      <td>42</td>\n",
       "      <td>2</td>\n",
       "      <td>0.00</td>\n",
       "      <td>1</td>\n",
       "      <td>1</td>\n",
       "      <td>1</td>\n",
       "      <td>101348.88</td>\n",
       "      <td>1</td>\n",
       "      <td>False</td>\n",
       "      <td>False</td>\n",
       "      <td>False</td>\n",
       "    </tr>\n",
       "    <tr>\n",
       "      <th>1</th>\n",
       "      <td>608</td>\n",
       "      <td>41</td>\n",
       "      <td>1</td>\n",
       "      <td>83807.86</td>\n",
       "      <td>1</td>\n",
       "      <td>0</td>\n",
       "      <td>1</td>\n",
       "      <td>112542.58</td>\n",
       "      <td>0</td>\n",
       "      <td>False</td>\n",
       "      <td>True</td>\n",
       "      <td>False</td>\n",
       "    </tr>\n",
       "    <tr>\n",
       "      <th>2</th>\n",
       "      <td>502</td>\n",
       "      <td>42</td>\n",
       "      <td>8</td>\n",
       "      <td>159660.80</td>\n",
       "      <td>3</td>\n",
       "      <td>1</td>\n",
       "      <td>0</td>\n",
       "      <td>113931.57</td>\n",
       "      <td>1</td>\n",
       "      <td>False</td>\n",
       "      <td>False</td>\n",
       "      <td>False</td>\n",
       "    </tr>\n",
       "    <tr>\n",
       "      <th>3</th>\n",
       "      <td>699</td>\n",
       "      <td>39</td>\n",
       "      <td>1</td>\n",
       "      <td>0.00</td>\n",
       "      <td>2</td>\n",
       "      <td>0</td>\n",
       "      <td>0</td>\n",
       "      <td>93826.63</td>\n",
       "      <td>0</td>\n",
       "      <td>False</td>\n",
       "      <td>False</td>\n",
       "      <td>False</td>\n",
       "    </tr>\n",
       "    <tr>\n",
       "      <th>4</th>\n",
       "      <td>850</td>\n",
       "      <td>43</td>\n",
       "      <td>2</td>\n",
       "      <td>125510.82</td>\n",
       "      <td>1</td>\n",
       "      <td>1</td>\n",
       "      <td>1</td>\n",
       "      <td>79084.10</td>\n",
       "      <td>0</td>\n",
       "      <td>False</td>\n",
       "      <td>True</td>\n",
       "      <td>False</td>\n",
       "    </tr>\n",
       "  </tbody>\n",
       "</table>\n",
       "</div>"
      ],
      "text/plain": [
       "   CreditScore  Age  Tenure    Balance  NumOfProducts  HasCrCard  \\\n",
       "0          619   42       2       0.00              1          1   \n",
       "1          608   41       1   83807.86              1          0   \n",
       "2          502   42       8  159660.80              3          1   \n",
       "3          699   39       1       0.00              2          0   \n",
       "4          850   43       2  125510.82              1          1   \n",
       "\n",
       "   IsActiveMember  EstimatedSalary  Exited  Geography_Germany  \\\n",
       "0               1        101348.88       1              False   \n",
       "1               1        112542.58       0              False   \n",
       "2               0        113931.57       1              False   \n",
       "3               0         93826.63       0              False   \n",
       "4               1         79084.10       0              False   \n",
       "\n",
       "   Geography_Spain  Gender_Male  \n",
       "0            False        False  \n",
       "1             True        False  \n",
       "2            False        False  \n",
       "3            False        False  \n",
       "4             True        False  "
      ]
     },
     "execution_count": 10,
     "metadata": {},
     "output_type": "execute_result"
    }
   ],
   "source": [
    "df.head()"
   ]
  },
  {
   "cell_type": "code",
   "execution_count": 11,
   "metadata": {},
   "outputs": [],
   "source": [
    "X = df.drop(columns=['Exited'])\n",
    "y = df['Exited'].values\n",
    "\n",
    "from sklearn.model_selection import train_test_split\n",
    "X_train,X_test,y_train,y_test = train_test_split(X,y,test_size=0.2,random_state=0)"
   ]
  },
  {
   "cell_type": "code",
   "execution_count": 12,
   "metadata": {},
   "outputs": [],
   "source": [
    "from sklearn.preprocessing import StandardScaler\n",
    "scaler = StandardScaler()\n",
    "\n",
    "X_train_trf = scaler.fit_transform(X_train)\n",
    "X_test_trf = scaler.transform(X_test)"
   ]
  },
  {
   "cell_type": "code",
   "execution_count": 13,
   "metadata": {},
   "outputs": [],
   "source": [
    "import tensorflow\n",
    "from tensorflow import keras\n",
    "from tensorflow.keras import Sequential \n",
    "from tensorflow.keras.layers import Dense"
   ]
  },
  {
   "cell_type": "code",
   "execution_count": 14,
   "metadata": {},
   "outputs": [
    {
     "name": "stderr",
     "output_type": "stream",
     "text": [
      "e:\\artificial_intelligence\\venv\\Lib\\site-packages\\keras\\src\\layers\\core\\dense.py:87: UserWarning: Do not pass an `input_shape`/`input_dim` argument to a layer. When using Sequential models, prefer using an `Input(shape)` object as the first layer in the model instead.\n",
      "  super().__init__(activity_regularizer=activity_regularizer, **kwargs)\n"
     ]
    }
   ],
   "source": [
    "model = Sequential()\n",
    "\n",
    "model.add(Dense(11,activation='sigmoid',input_dim=11))\n",
    "model.add(Dense(11,activation='sigmoid'))\n",
    "model.add(Dense(1,activation='sigmoid'))"
   ]
  },
  {
   "cell_type": "code",
   "execution_count": 15,
   "metadata": {},
   "outputs": [
    {
     "data": {
      "text/html": [
       "<pre style=\"white-space:pre;overflow-x:auto;line-height:normal;font-family:Menlo,'DejaVu Sans Mono',consolas,'Courier New',monospace\"><span style=\"font-weight: bold\">Model: \"sequential\"</span>\n",
       "</pre>\n"
      ],
      "text/plain": [
       "\u001b[1mModel: \"sequential\"\u001b[0m\n"
      ]
     },
     "metadata": {},
     "output_type": "display_data"
    },
    {
     "data": {
      "text/html": [
       "<pre style=\"white-space:pre;overflow-x:auto;line-height:normal;font-family:Menlo,'DejaVu Sans Mono',consolas,'Courier New',monospace\">┏━━━━━━━━━━━━━━━━━━━━━━━━━━━━━━━━━┳━━━━━━━━━━━━━━━━━━━━━━━━┳━━━━━━━━━━━━━━━┓\n",
       "┃<span style=\"font-weight: bold\"> Layer (type)                    </span>┃<span style=\"font-weight: bold\"> Output Shape           </span>┃<span style=\"font-weight: bold\">       Param # </span>┃\n",
       "┡━━━━━━━━━━━━━━━━━━━━━━━━━━━━━━━━━╇━━━━━━━━━━━━━━━━━━━━━━━━╇━━━━━━━━━━━━━━━┩\n",
       "│ dense (<span style=\"color: #0087ff; text-decoration-color: #0087ff\">Dense</span>)                   │ (<span style=\"color: #00d7ff; text-decoration-color: #00d7ff\">None</span>, <span style=\"color: #00af00; text-decoration-color: #00af00\">11</span>)             │           <span style=\"color: #00af00; text-decoration-color: #00af00\">132</span> │\n",
       "├─────────────────────────────────┼────────────────────────┼───────────────┤\n",
       "│ dense_1 (<span style=\"color: #0087ff; text-decoration-color: #0087ff\">Dense</span>)                 │ (<span style=\"color: #00d7ff; text-decoration-color: #00d7ff\">None</span>, <span style=\"color: #00af00; text-decoration-color: #00af00\">11</span>)             │           <span style=\"color: #00af00; text-decoration-color: #00af00\">132</span> │\n",
       "├─────────────────────────────────┼────────────────────────┼───────────────┤\n",
       "│ dense_2 (<span style=\"color: #0087ff; text-decoration-color: #0087ff\">Dense</span>)                 │ (<span style=\"color: #00d7ff; text-decoration-color: #00d7ff\">None</span>, <span style=\"color: #00af00; text-decoration-color: #00af00\">1</span>)              │            <span style=\"color: #00af00; text-decoration-color: #00af00\">12</span> │\n",
       "└─────────────────────────────────┴────────────────────────┴───────────────┘\n",
       "</pre>\n"
      ],
      "text/plain": [
       "┏━━━━━━━━━━━━━━━━━━━━━━━━━━━━━━━━━┳━━━━━━━━━━━━━━━━━━━━━━━━┳━━━━━━━━━━━━━━━┓\n",
       "┃\u001b[1m \u001b[0m\u001b[1mLayer (type)                   \u001b[0m\u001b[1m \u001b[0m┃\u001b[1m \u001b[0m\u001b[1mOutput Shape          \u001b[0m\u001b[1m \u001b[0m┃\u001b[1m \u001b[0m\u001b[1m      Param #\u001b[0m\u001b[1m \u001b[0m┃\n",
       "┡━━━━━━━━━━━━━━━━━━━━━━━━━━━━━━━━━╇━━━━━━━━━━━━━━━━━━━━━━━━╇━━━━━━━━━━━━━━━┩\n",
       "│ dense (\u001b[38;5;33mDense\u001b[0m)                   │ (\u001b[38;5;45mNone\u001b[0m, \u001b[38;5;34m11\u001b[0m)             │           \u001b[38;5;34m132\u001b[0m │\n",
       "├─────────────────────────────────┼────────────────────────┼───────────────┤\n",
       "│ dense_1 (\u001b[38;5;33mDense\u001b[0m)                 │ (\u001b[38;5;45mNone\u001b[0m, \u001b[38;5;34m11\u001b[0m)             │           \u001b[38;5;34m132\u001b[0m │\n",
       "├─────────────────────────────────┼────────────────────────┼───────────────┤\n",
       "│ dense_2 (\u001b[38;5;33mDense\u001b[0m)                 │ (\u001b[38;5;45mNone\u001b[0m, \u001b[38;5;34m1\u001b[0m)              │            \u001b[38;5;34m12\u001b[0m │\n",
       "└─────────────────────────────────┴────────────────────────┴───────────────┘\n"
      ]
     },
     "metadata": {},
     "output_type": "display_data"
    },
    {
     "data": {
      "text/html": [
       "<pre style=\"white-space:pre;overflow-x:auto;line-height:normal;font-family:Menlo,'DejaVu Sans Mono',consolas,'Courier New',monospace\"><span style=\"font-weight: bold\"> Total params: </span><span style=\"color: #00af00; text-decoration-color: #00af00\">276</span> (1.08 KB)\n",
       "</pre>\n"
      ],
      "text/plain": [
       "\u001b[1m Total params: \u001b[0m\u001b[38;5;34m276\u001b[0m (1.08 KB)\n"
      ]
     },
     "metadata": {},
     "output_type": "display_data"
    },
    {
     "data": {
      "text/html": [
       "<pre style=\"white-space:pre;overflow-x:auto;line-height:normal;font-family:Menlo,'DejaVu Sans Mono',consolas,'Courier New',monospace\"><span style=\"font-weight: bold\"> Trainable params: </span><span style=\"color: #00af00; text-decoration-color: #00af00\">276</span> (1.08 KB)\n",
       "</pre>\n"
      ],
      "text/plain": [
       "\u001b[1m Trainable params: \u001b[0m\u001b[38;5;34m276\u001b[0m (1.08 KB)\n"
      ]
     },
     "metadata": {},
     "output_type": "display_data"
    },
    {
     "data": {
      "text/html": [
       "<pre style=\"white-space:pre;overflow-x:auto;line-height:normal;font-family:Menlo,'DejaVu Sans Mono',consolas,'Courier New',monospace\"><span style=\"font-weight: bold\"> Non-trainable params: </span><span style=\"color: #00af00; text-decoration-color: #00af00\">0</span> (0.00 B)\n",
       "</pre>\n"
      ],
      "text/plain": [
       "\u001b[1m Non-trainable params: \u001b[0m\u001b[38;5;34m0\u001b[0m (0.00 B)\n"
      ]
     },
     "metadata": {},
     "output_type": "display_data"
    }
   ],
   "source": [
    "model.summary()"
   ]
  },
  {
   "cell_type": "code",
   "execution_count": 16,
   "metadata": {},
   "outputs": [],
   "source": [
    "model.compile(optimizer='Adam',loss='binary_crossentropy',metrics=['accuracy'])"
   ]
  },
  {
   "cell_type": "code",
   "execution_count": 17,
   "metadata": {},
   "outputs": [
    {
     "name": "stdout",
     "output_type": "stream",
     "text": [
      "Epoch 1/100\n",
      "\u001b[1m128/128\u001b[0m \u001b[32m━━━━━━━━━━━━━━━━━━━━\u001b[0m\u001b[37m\u001b[0m \u001b[1m1s\u001b[0m 2ms/step - accuracy: 0.7969 - loss: 0.5459 - val_accuracy: 0.7969 - val_loss: 0.5036\n",
      "Epoch 2/100\n",
      "\u001b[1m128/128\u001b[0m \u001b[32m━━━━━━━━━━━━━━━━━━━━\u001b[0m\u001b[37m\u001b[0m \u001b[1m0s\u001b[0m 944us/step - accuracy: 0.7903 - loss: 0.5106 - val_accuracy: 0.7969 - val_loss: 0.5009\n",
      "Epoch 3/100\n",
      "\u001b[1m128/128\u001b[0m \u001b[32m━━━━━━━━━━━━━━━━━━━━\u001b[0m\u001b[37m\u001b[0m \u001b[1m0s\u001b[0m 939us/step - accuracy: 0.7962 - loss: 0.5033 - val_accuracy: 0.7969 - val_loss: 0.4998\n",
      "Epoch 4/100\n",
      "\u001b[1m128/128\u001b[0m \u001b[32m━━━━━━━━━━━━━━━━━━━━\u001b[0m\u001b[37m\u001b[0m \u001b[1m0s\u001b[0m 961us/step - accuracy: 0.8017 - loss: 0.4945 - val_accuracy: 0.7969 - val_loss: 0.4991\n",
      "Epoch 5/100\n",
      "\u001b[1m128/128\u001b[0m \u001b[32m━━━━━━━━━━━━━━━━━━━━\u001b[0m\u001b[37m\u001b[0m \u001b[1m0s\u001b[0m 899us/step - accuracy: 0.7901 - loss: 0.5112 - val_accuracy: 0.7969 - val_loss: 0.4989\n",
      "Epoch 6/100\n",
      "\u001b[1m128/128\u001b[0m \u001b[32m━━━━━━━━━━━━━━━━━━━━\u001b[0m\u001b[37m\u001b[0m \u001b[1m0s\u001b[0m 879us/step - accuracy: 0.7959 - loss: 0.5043 - val_accuracy: 0.7969 - val_loss: 0.4980\n",
      "Epoch 7/100\n",
      "\u001b[1m128/128\u001b[0m \u001b[32m━━━━━━━━━━━━━━━━━━━━\u001b[0m\u001b[37m\u001b[0m \u001b[1m0s\u001b[0m 878us/step - accuracy: 0.8004 - loss: 0.4952 - val_accuracy: 0.7969 - val_loss: 0.4984\n",
      "Epoch 8/100\n",
      "\u001b[1m128/128\u001b[0m \u001b[32m━━━━━━━━━━━━━━━━━━━━\u001b[0m\u001b[37m\u001b[0m \u001b[1m0s\u001b[0m 1ms/step - accuracy: 0.7995 - loss: 0.4958 - val_accuracy: 0.7969 - val_loss: 0.4983\n",
      "Epoch 9/100\n",
      "\u001b[1m128/128\u001b[0m \u001b[32m━━━━━━━━━━━━━━━━━━━━\u001b[0m\u001b[37m\u001b[0m \u001b[1m0s\u001b[0m 1ms/step - accuracy: 0.7908 - loss: 0.5064 - val_accuracy: 0.7969 - val_loss: 0.4981\n",
      "Epoch 10/100\n",
      "\u001b[1m128/128\u001b[0m \u001b[32m━━━━━━━━━━━━━━━━━━━━\u001b[0m\u001b[37m\u001b[0m \u001b[1m0s\u001b[0m 1ms/step - accuracy: 0.7928 - loss: 0.5045 - val_accuracy: 0.7969 - val_loss: 0.4980\n",
      "Epoch 11/100\n",
      "\u001b[1m128/128\u001b[0m \u001b[32m━━━━━━━━━━━━━━━━━━━━\u001b[0m\u001b[37m\u001b[0m \u001b[1m0s\u001b[0m 1ms/step - accuracy: 0.7956 - loss: 0.5000 - val_accuracy: 0.7969 - val_loss: 0.4977\n",
      "Epoch 12/100\n",
      "\u001b[1m128/128\u001b[0m \u001b[32m━━━━━━━━━━━━━━━━━━━━\u001b[0m\u001b[37m\u001b[0m \u001b[1m0s\u001b[0m 1ms/step - accuracy: 0.7942 - loss: 0.5022 - val_accuracy: 0.7969 - val_loss: 0.4975\n",
      "Epoch 13/100\n",
      "\u001b[1m128/128\u001b[0m \u001b[32m━━━━━━━━━━━━━━━━━━━━\u001b[0m\u001b[37m\u001b[0m \u001b[1m0s\u001b[0m 1ms/step - accuracy: 0.7897 - loss: 0.5084 - val_accuracy: 0.7969 - val_loss: 0.4974\n",
      "Epoch 14/100\n",
      "\u001b[1m128/128\u001b[0m \u001b[32m━━━━━━━━━━━━━━━━━━━━\u001b[0m\u001b[37m\u001b[0m \u001b[1m0s\u001b[0m 967us/step - accuracy: 0.7903 - loss: 0.5080 - val_accuracy: 0.7969 - val_loss: 0.4973\n",
      "Epoch 15/100\n",
      "\u001b[1m128/128\u001b[0m \u001b[32m━━━━━━━━━━━━━━━━━━━━\u001b[0m\u001b[37m\u001b[0m \u001b[1m0s\u001b[0m 1000us/step - accuracy: 0.7993 - loss: 0.4957 - val_accuracy: 0.7969 - val_loss: 0.4974\n",
      "Epoch 16/100\n",
      "\u001b[1m128/128\u001b[0m \u001b[32m━━━━━━━━━━━━━━━━━━━━\u001b[0m\u001b[37m\u001b[0m \u001b[1m0s\u001b[0m 1ms/step - accuracy: 0.7974 - loss: 0.4986 - val_accuracy: 0.7969 - val_loss: 0.4972\n",
      "Epoch 17/100\n",
      "\u001b[1m128/128\u001b[0m \u001b[32m━━━━━━━━━━━━━━━━━━━━\u001b[0m\u001b[37m\u001b[0m \u001b[1m0s\u001b[0m 1ms/step - accuracy: 0.7942 - loss: 0.5024 - val_accuracy: 0.7969 - val_loss: 0.4972\n",
      "Epoch 18/100\n",
      "\u001b[1m128/128\u001b[0m \u001b[32m━━━━━━━━━━━━━━━━━━━━\u001b[0m\u001b[37m\u001b[0m \u001b[1m0s\u001b[0m 955us/step - accuracy: 0.7904 - loss: 0.5070 - val_accuracy: 0.7969 - val_loss: 0.4979\n",
      "Epoch 19/100\n",
      "\u001b[1m128/128\u001b[0m \u001b[32m━━━━━━━━━━━━━━━━━━━━\u001b[0m\u001b[37m\u001b[0m \u001b[1m0s\u001b[0m 871us/step - accuracy: 0.7921 - loss: 0.5050 - val_accuracy: 0.7969 - val_loss: 0.4971\n",
      "Epoch 20/100\n",
      "\u001b[1m128/128\u001b[0m \u001b[32m━━━━━━━━━━━━━━━━━━━━\u001b[0m\u001b[37m\u001b[0m \u001b[1m0s\u001b[0m 975us/step - accuracy: 0.7979 - loss: 0.4993 - val_accuracy: 0.7969 - val_loss: 0.4971\n",
      "Epoch 21/100\n",
      "\u001b[1m128/128\u001b[0m \u001b[32m━━━━━━━━━━━━━━━━━━━━\u001b[0m\u001b[37m\u001b[0m \u001b[1m0s\u001b[0m 997us/step - accuracy: 0.7929 - loss: 0.5022 - val_accuracy: 0.7969 - val_loss: 0.4969\n",
      "Epoch 22/100\n",
      "\u001b[1m128/128\u001b[0m \u001b[32m━━━━━━━━━━━━━━━━━━━━\u001b[0m\u001b[37m\u001b[0m \u001b[1m0s\u001b[0m 1ms/step - accuracy: 0.7967 - loss: 0.4985 - val_accuracy: 0.7969 - val_loss: 0.4968\n",
      "Epoch 23/100\n",
      "\u001b[1m128/128\u001b[0m \u001b[32m━━━━━━━━━━━━━━━━━━━━\u001b[0m\u001b[37m\u001b[0m \u001b[1m0s\u001b[0m 976us/step - accuracy: 0.7978 - loss: 0.4973 - val_accuracy: 0.7969 - val_loss: 0.4969\n",
      "Epoch 24/100\n",
      "\u001b[1m128/128\u001b[0m \u001b[32m━━━━━━━━━━━━━━━━━━━━\u001b[0m\u001b[37m\u001b[0m \u001b[1m0s\u001b[0m 1ms/step - accuracy: 0.8027 - loss: 0.4895 - val_accuracy: 0.7969 - val_loss: 0.4968\n",
      "Epoch 25/100\n",
      "\u001b[1m128/128\u001b[0m \u001b[32m━━━━━━━━━━━━━━━━━━━━\u001b[0m\u001b[37m\u001b[0m \u001b[1m0s\u001b[0m 1ms/step - accuracy: 0.7997 - loss: 0.4939 - val_accuracy: 0.7969 - val_loss: 0.4969\n",
      "Epoch 26/100\n",
      "\u001b[1m128/128\u001b[0m \u001b[32m━━━━━━━━━━━━━━━━━━━━\u001b[0m\u001b[37m\u001b[0m \u001b[1m0s\u001b[0m 992us/step - accuracy: 0.7951 - loss: 0.5004 - val_accuracy: 0.7969 - val_loss: 0.4972\n",
      "Epoch 27/100\n",
      "\u001b[1m128/128\u001b[0m \u001b[32m━━━━━━━━━━━━━━━━━━━━\u001b[0m\u001b[37m\u001b[0m \u001b[1m0s\u001b[0m 1ms/step - accuracy: 0.7869 - loss: 0.5124 - val_accuracy: 0.7969 - val_loss: 0.4969\n",
      "Epoch 28/100\n",
      "\u001b[1m128/128\u001b[0m \u001b[32m━━━━━━━━━━━━━━━━━━━━\u001b[0m\u001b[37m\u001b[0m \u001b[1m0s\u001b[0m 1ms/step - accuracy: 0.7999 - loss: 0.4926 - val_accuracy: 0.7969 - val_loss: 0.4967\n",
      "Epoch 29/100\n",
      "\u001b[1m128/128\u001b[0m \u001b[32m━━━━━━━━━━━━━━━━━━━━\u001b[0m\u001b[37m\u001b[0m \u001b[1m0s\u001b[0m 1ms/step - accuracy: 0.7947 - loss: 0.4996 - val_accuracy: 0.7969 - val_loss: 0.4967\n",
      "Epoch 30/100\n",
      "\u001b[1m128/128\u001b[0m \u001b[32m━━━━━━━━━━━━━━━━━━━━\u001b[0m\u001b[37m\u001b[0m \u001b[1m0s\u001b[0m 1ms/step - accuracy: 0.7997 - loss: 0.4964 - val_accuracy: 0.7969 - val_loss: 0.4968\n",
      "Epoch 31/100\n",
      "\u001b[1m128/128\u001b[0m \u001b[32m━━━━━━━━━━━━━━━━━━━━\u001b[0m\u001b[37m\u001b[0m \u001b[1m0s\u001b[0m 1ms/step - accuracy: 0.7934 - loss: 0.5006 - val_accuracy: 0.7969 - val_loss: 0.4966\n",
      "Epoch 32/100\n",
      "\u001b[1m128/128\u001b[0m \u001b[32m━━━━━━━━━━━━━━━━━━━━\u001b[0m\u001b[37m\u001b[0m \u001b[1m0s\u001b[0m 1ms/step - accuracy: 0.7997 - loss: 0.4943 - val_accuracy: 0.7969 - val_loss: 0.4967\n",
      "Epoch 33/100\n",
      "\u001b[1m128/128\u001b[0m \u001b[32m━━━━━━━━━━━━━━━━━━━━\u001b[0m\u001b[37m\u001b[0m \u001b[1m0s\u001b[0m 1ms/step - accuracy: 0.7909 - loss: 0.5042 - val_accuracy: 0.7969 - val_loss: 0.4967\n",
      "Epoch 34/100\n",
      "\u001b[1m128/128\u001b[0m \u001b[32m━━━━━━━━━━━━━━━━━━━━\u001b[0m\u001b[37m\u001b[0m \u001b[1m0s\u001b[0m 997us/step - accuracy: 0.7990 - loss: 0.4931 - val_accuracy: 0.7969 - val_loss: 0.4966\n",
      "Epoch 35/100\n",
      "\u001b[1m128/128\u001b[0m \u001b[32m━━━━━━━━━━━━━━━━━━━━\u001b[0m\u001b[37m\u001b[0m \u001b[1m0s\u001b[0m 1ms/step - accuracy: 0.8070 - loss: 0.4835 - val_accuracy: 0.7969 - val_loss: 0.4968\n",
      "Epoch 36/100\n",
      "\u001b[1m128/128\u001b[0m \u001b[32m━━━━━━━━━━━━━━━━━━━━\u001b[0m\u001b[37m\u001b[0m \u001b[1m0s\u001b[0m 1ms/step - accuracy: 0.8007 - loss: 0.4941 - val_accuracy: 0.7969 - val_loss: 0.4967\n",
      "Epoch 37/100\n",
      "\u001b[1m128/128\u001b[0m \u001b[32m━━━━━━━━━━━━━━━━━━━━\u001b[0m\u001b[37m\u001b[0m \u001b[1m0s\u001b[0m 989us/step - accuracy: 0.7893 - loss: 0.5064 - val_accuracy: 0.7969 - val_loss: 0.4972\n",
      "Epoch 38/100\n",
      "\u001b[1m128/128\u001b[0m \u001b[32m━━━━━━━━━━━━━━━━━━━━\u001b[0m\u001b[37m\u001b[0m \u001b[1m0s\u001b[0m 1ms/step - accuracy: 0.7924 - loss: 0.5053 - val_accuracy: 0.7969 - val_loss: 0.4966\n",
      "Epoch 39/100\n",
      "\u001b[1m128/128\u001b[0m \u001b[32m━━━━━━━━━━━━━━━━━━━━\u001b[0m\u001b[37m\u001b[0m \u001b[1m0s\u001b[0m 999us/step - accuracy: 0.7948 - loss: 0.5010 - val_accuracy: 0.7969 - val_loss: 0.4966\n",
      "Epoch 40/100\n",
      "\u001b[1m128/128\u001b[0m \u001b[32m━━━━━━━━━━━━━━━━━━━━\u001b[0m\u001b[37m\u001b[0m \u001b[1m0s\u001b[0m 1ms/step - accuracy: 0.7887 - loss: 0.5089 - val_accuracy: 0.7969 - val_loss: 0.4966\n",
      "Epoch 41/100\n",
      "\u001b[1m128/128\u001b[0m \u001b[32m━━━━━━━━━━━━━━━━━━━━\u001b[0m\u001b[37m\u001b[0m \u001b[1m0s\u001b[0m 1ms/step - accuracy: 0.8067 - loss: 0.4849 - val_accuracy: 0.7969 - val_loss: 0.4968\n",
      "Epoch 42/100\n",
      "\u001b[1m128/128\u001b[0m \u001b[32m━━━━━━━━━━━━━━━━━━━━\u001b[0m\u001b[37m\u001b[0m \u001b[1m0s\u001b[0m 1ms/step - accuracy: 0.8031 - loss: 0.4896 - val_accuracy: 0.7969 - val_loss: 0.4966\n",
      "Epoch 43/100\n",
      "\u001b[1m128/128\u001b[0m \u001b[32m━━━━━━━━━━━━━━━━━━━━\u001b[0m\u001b[37m\u001b[0m \u001b[1m0s\u001b[0m 1ms/step - accuracy: 0.7958 - loss: 0.4989 - val_accuracy: 0.7969 - val_loss: 0.4969\n",
      "Epoch 44/100\n",
      "\u001b[1m128/128\u001b[0m \u001b[32m━━━━━━━━━━━━━━━━━━━━\u001b[0m\u001b[37m\u001b[0m \u001b[1m0s\u001b[0m 1ms/step - accuracy: 0.7898 - loss: 0.5104 - val_accuracy: 0.7969 - val_loss: 0.4969\n",
      "Epoch 45/100\n",
      "\u001b[1m128/128\u001b[0m \u001b[32m━━━━━━━━━━━━━━━━━━━━\u001b[0m\u001b[37m\u001b[0m \u001b[1m0s\u001b[0m 1ms/step - accuracy: 0.7956 - loss: 0.5006 - val_accuracy: 0.7969 - val_loss: 0.4967\n",
      "Epoch 46/100\n",
      "\u001b[1m128/128\u001b[0m \u001b[32m━━━━━━━━━━━━━━━━━━━━\u001b[0m\u001b[37m\u001b[0m \u001b[1m0s\u001b[0m 1ms/step - accuracy: 0.7940 - loss: 0.4995 - val_accuracy: 0.7969 - val_loss: 0.4966\n",
      "Epoch 47/100\n",
      "\u001b[1m128/128\u001b[0m \u001b[32m━━━━━━━━━━━━━━━━━━━━\u001b[0m\u001b[37m\u001b[0m \u001b[1m0s\u001b[0m 1ms/step - accuracy: 0.7944 - loss: 0.5019 - val_accuracy: 0.7969 - val_loss: 0.4966\n",
      "Epoch 48/100\n",
      "\u001b[1m128/128\u001b[0m \u001b[32m━━━━━━━━━━━━━━━━━━━━\u001b[0m\u001b[37m\u001b[0m \u001b[1m0s\u001b[0m 1ms/step - accuracy: 0.7992 - loss: 0.4937 - val_accuracy: 0.7969 - val_loss: 0.4966\n",
      "Epoch 49/100\n",
      "\u001b[1m128/128\u001b[0m \u001b[32m━━━━━━━━━━━━━━━━━━━━\u001b[0m\u001b[37m\u001b[0m \u001b[1m0s\u001b[0m 1ms/step - accuracy: 0.7884 - loss: 0.5121 - val_accuracy: 0.7969 - val_loss: 0.4968\n",
      "Epoch 50/100\n",
      "\u001b[1m128/128\u001b[0m \u001b[32m━━━━━━━━━━━━━━━━━━━━\u001b[0m\u001b[37m\u001b[0m \u001b[1m0s\u001b[0m 1ms/step - accuracy: 0.7979 - loss: 0.4964 - val_accuracy: 0.7969 - val_loss: 0.4965\n",
      "Epoch 51/100\n",
      "\u001b[1m128/128\u001b[0m \u001b[32m━━━━━━━━━━━━━━━━━━━━\u001b[0m\u001b[37m\u001b[0m \u001b[1m0s\u001b[0m 1ms/step - accuracy: 0.8008 - loss: 0.4905 - val_accuracy: 0.7969 - val_loss: 0.4965\n",
      "Epoch 52/100\n",
      "\u001b[1m128/128\u001b[0m \u001b[32m━━━━━━━━━━━━━━━━━━━━\u001b[0m\u001b[37m\u001b[0m \u001b[1m0s\u001b[0m 1ms/step - accuracy: 0.7916 - loss: 0.5056 - val_accuracy: 0.7969 - val_loss: 0.4969\n",
      "Epoch 53/100\n",
      "\u001b[1m128/128\u001b[0m \u001b[32m━━━━━━━━━━━━━━━━━━━━\u001b[0m\u001b[37m\u001b[0m \u001b[1m0s\u001b[0m 1ms/step - accuracy: 0.8052 - loss: 0.4876 - val_accuracy: 0.7969 - val_loss: 0.4966\n",
      "Epoch 54/100\n",
      "\u001b[1m128/128\u001b[0m \u001b[32m━━━━━━━━━━━━━━━━━━━━\u001b[0m\u001b[37m\u001b[0m \u001b[1m0s\u001b[0m 1ms/step - accuracy: 0.7897 - loss: 0.5075 - val_accuracy: 0.7969 - val_loss: 0.4966\n",
      "Epoch 55/100\n",
      "\u001b[1m128/128\u001b[0m \u001b[32m━━━━━━━━━━━━━━━━━━━━\u001b[0m\u001b[37m\u001b[0m \u001b[1m0s\u001b[0m 2ms/step - accuracy: 0.7897 - loss: 0.5066 - val_accuracy: 0.7969 - val_loss: 0.4965\n",
      "Epoch 56/100\n",
      "\u001b[1m128/128\u001b[0m \u001b[32m━━━━━━━━━━━━━━━━━━━━\u001b[0m\u001b[37m\u001b[0m \u001b[1m0s\u001b[0m 1ms/step - accuracy: 0.7950 - loss: 0.5016 - val_accuracy: 0.7969 - val_loss: 0.4965\n",
      "Epoch 57/100\n",
      "\u001b[1m128/128\u001b[0m \u001b[32m━━━━━━━━━━━━━━━━━━━━\u001b[0m\u001b[37m\u001b[0m \u001b[1m0s\u001b[0m 1ms/step - accuracy: 0.7806 - loss: 0.5180 - val_accuracy: 0.7969 - val_loss: 0.4968\n",
      "Epoch 58/100\n",
      "\u001b[1m128/128\u001b[0m \u001b[32m━━━━━━━━━━━━━━━━━━━━\u001b[0m\u001b[37m\u001b[0m \u001b[1m0s\u001b[0m 1ms/step - accuracy: 0.7948 - loss: 0.4997 - val_accuracy: 0.7969 - val_loss: 0.4965\n",
      "Epoch 59/100\n",
      "\u001b[1m128/128\u001b[0m \u001b[32m━━━━━━━━━━━━━━━━━━━━\u001b[0m\u001b[37m\u001b[0m \u001b[1m0s\u001b[0m 1ms/step - accuracy: 0.7962 - loss: 0.4977 - val_accuracy: 0.7969 - val_loss: 0.4967\n",
      "Epoch 60/100\n",
      "\u001b[1m128/128\u001b[0m \u001b[32m━━━━━━━━━━━━━━━━━━━━\u001b[0m\u001b[37m\u001b[0m \u001b[1m0s\u001b[0m 1ms/step - accuracy: 0.7969 - loss: 0.4984 - val_accuracy: 0.7969 - val_loss: 0.4965\n",
      "Epoch 61/100\n",
      "\u001b[1m128/128\u001b[0m \u001b[32m━━━━━━━━━━━━━━━━━━━━\u001b[0m\u001b[37m\u001b[0m \u001b[1m0s\u001b[0m 1ms/step - accuracy: 0.7955 - loss: 0.5002 - val_accuracy: 0.7969 - val_loss: 0.4965\n",
      "Epoch 62/100\n",
      "\u001b[1m128/128\u001b[0m \u001b[32m━━━━━━━━━━━━━━━━━━━━\u001b[0m\u001b[37m\u001b[0m \u001b[1m0s\u001b[0m 1ms/step - accuracy: 0.7946 - loss: 0.5010 - val_accuracy: 0.7969 - val_loss: 0.4965\n",
      "Epoch 63/100\n",
      "\u001b[1m128/128\u001b[0m \u001b[32m━━━━━━━━━━━━━━━━━━━━\u001b[0m\u001b[37m\u001b[0m \u001b[1m0s\u001b[0m 2ms/step - accuracy: 0.7946 - loss: 0.4998 - val_accuracy: 0.7969 - val_loss: 0.4965\n",
      "Epoch 64/100\n",
      "\u001b[1m128/128\u001b[0m \u001b[32m━━━━━━━━━━━━━━━━━━━━\u001b[0m\u001b[37m\u001b[0m \u001b[1m0s\u001b[0m 1ms/step - accuracy: 0.7878 - loss: 0.5072 - val_accuracy: 0.7969 - val_loss: 0.4971\n",
      "Epoch 65/100\n",
      "\u001b[1m128/128\u001b[0m \u001b[32m━━━━━━━━━━━━━━━━━━━━\u001b[0m\u001b[37m\u001b[0m \u001b[1m0s\u001b[0m 1ms/step - accuracy: 0.7897 - loss: 0.5079 - val_accuracy: 0.7969 - val_loss: 0.4961\n",
      "Epoch 66/100\n",
      "\u001b[1m128/128\u001b[0m \u001b[32m━━━━━━━━━━━━━━━━━━━━\u001b[0m\u001b[37m\u001b[0m \u001b[1m0s\u001b[0m 1ms/step - accuracy: 0.7963 - loss: 0.4987 - val_accuracy: 0.7969 - val_loss: 0.4961\n",
      "Epoch 67/100\n",
      "\u001b[1m128/128\u001b[0m \u001b[32m━━━━━━━━━━━━━━━━━━━━\u001b[0m\u001b[37m\u001b[0m \u001b[1m0s\u001b[0m 1ms/step - accuracy: 0.7926 - loss: 0.5033 - val_accuracy: 0.7969 - val_loss: 0.4963\n",
      "Epoch 68/100\n",
      "\u001b[1m128/128\u001b[0m \u001b[32m━━━━━━━━━━━━━━━━━━━━\u001b[0m\u001b[37m\u001b[0m \u001b[1m0s\u001b[0m 1ms/step - accuracy: 0.7950 - loss: 0.5006 - val_accuracy: 0.7969 - val_loss: 0.4963\n",
      "Epoch 69/100\n",
      "\u001b[1m128/128\u001b[0m \u001b[32m━━━━━━━━━━━━━━━━━━━━\u001b[0m\u001b[37m\u001b[0m \u001b[1m0s\u001b[0m 1ms/step - accuracy: 0.7922 - loss: 0.5042 - val_accuracy: 0.7969 - val_loss: 0.4963\n",
      "Epoch 70/100\n",
      "\u001b[1m128/128\u001b[0m \u001b[32m━━━━━━━━━━━━━━━━━━━━\u001b[0m\u001b[37m\u001b[0m \u001b[1m0s\u001b[0m 1ms/step - accuracy: 0.7945 - loss: 0.5005 - val_accuracy: 0.7969 - val_loss: 0.4965\n",
      "Epoch 71/100\n",
      "\u001b[1m128/128\u001b[0m \u001b[32m━━━━━━━━━━━━━━━━━━━━\u001b[0m\u001b[37m\u001b[0m \u001b[1m0s\u001b[0m 1ms/step - accuracy: 0.7969 - loss: 0.4987 - val_accuracy: 0.7969 - val_loss: 0.4964\n",
      "Epoch 72/100\n",
      "\u001b[1m128/128\u001b[0m \u001b[32m━━━━━━━━━━━━━━━━━━━━\u001b[0m\u001b[37m\u001b[0m \u001b[1m0s\u001b[0m 1ms/step - accuracy: 0.7957 - loss: 0.4996 - val_accuracy: 0.7969 - val_loss: 0.4964\n",
      "Epoch 73/100\n",
      "\u001b[1m128/128\u001b[0m \u001b[32m━━━━━━━━━━━━━━━━━━━━\u001b[0m\u001b[37m\u001b[0m \u001b[1m0s\u001b[0m 1ms/step - accuracy: 0.8099 - loss: 0.4804 - val_accuracy: 0.7969 - val_loss: 0.4969\n",
      "Epoch 74/100\n",
      "\u001b[1m128/128\u001b[0m \u001b[32m━━━━━━━━━━━━━━━━━━━━\u001b[0m\u001b[37m\u001b[0m \u001b[1m0s\u001b[0m 1ms/step - accuracy: 0.7936 - loss: 0.5027 - val_accuracy: 0.7969 - val_loss: 0.4964\n",
      "Epoch 75/100\n",
      "\u001b[1m128/128\u001b[0m \u001b[32m━━━━━━━━━━━━━━━━━━━━\u001b[0m\u001b[37m\u001b[0m \u001b[1m0s\u001b[0m 1ms/step - accuracy: 0.7893 - loss: 0.5084 - val_accuracy: 0.7969 - val_loss: 0.4963\n",
      "Epoch 76/100\n",
      "\u001b[1m128/128\u001b[0m \u001b[32m━━━━━━━━━━━━━━━━━━━━\u001b[0m\u001b[37m\u001b[0m \u001b[1m0s\u001b[0m 1ms/step - accuracy: 0.7959 - loss: 0.5012 - val_accuracy: 0.7969 - val_loss: 0.4963\n",
      "Epoch 77/100\n",
      "\u001b[1m128/128\u001b[0m \u001b[32m━━━━━━━━━━━━━━━━━━━━\u001b[0m\u001b[37m\u001b[0m \u001b[1m0s\u001b[0m 1ms/step - accuracy: 0.7926 - loss: 0.5042 - val_accuracy: 0.7969 - val_loss: 0.4962\n",
      "Epoch 78/100\n",
      "\u001b[1m128/128\u001b[0m \u001b[32m━━━━━━━━━━━━━━━━━━━━\u001b[0m\u001b[37m\u001b[0m \u001b[1m0s\u001b[0m 990us/step - accuracy: 0.7983 - loss: 0.4949 - val_accuracy: 0.7969 - val_loss: 0.4963\n",
      "Epoch 79/100\n",
      "\u001b[1m128/128\u001b[0m \u001b[32m━━━━━━━━━━━━━━━━━━━━\u001b[0m\u001b[37m\u001b[0m \u001b[1m0s\u001b[0m 1ms/step - accuracy: 0.7944 - loss: 0.5032 - val_accuracy: 0.7969 - val_loss: 0.4963\n",
      "Epoch 80/100\n",
      "\u001b[1m128/128\u001b[0m \u001b[32m━━━━━━━━━━━━━━━━━━━━\u001b[0m\u001b[37m\u001b[0m \u001b[1m0s\u001b[0m 1ms/step - accuracy: 0.7991 - loss: 0.4943 - val_accuracy: 0.7969 - val_loss: 0.4965\n",
      "Epoch 81/100\n",
      "\u001b[1m128/128\u001b[0m \u001b[32m━━━━━━━━━━━━━━━━━━━━\u001b[0m\u001b[37m\u001b[0m \u001b[1m0s\u001b[0m 983us/step - accuracy: 0.8014 - loss: 0.4916 - val_accuracy: 0.7969 - val_loss: 0.4964\n",
      "Epoch 82/100\n",
      "\u001b[1m128/128\u001b[0m \u001b[32m━━━━━━━━━━━━━━━━━━━━\u001b[0m\u001b[37m\u001b[0m \u001b[1m0s\u001b[0m 1ms/step - accuracy: 0.7971 - loss: 0.4972 - val_accuracy: 0.7969 - val_loss: 0.4965\n",
      "Epoch 83/100\n",
      "\u001b[1m128/128\u001b[0m \u001b[32m━━━━━━━━━━━━━━━━━━━━\u001b[0m\u001b[37m\u001b[0m \u001b[1m0s\u001b[0m 1ms/step - accuracy: 0.7949 - loss: 0.4979 - val_accuracy: 0.7969 - val_loss: 0.4963\n",
      "Epoch 84/100\n",
      "\u001b[1m128/128\u001b[0m \u001b[32m━━━━━━━━━━━━━━━━━━━━\u001b[0m\u001b[37m\u001b[0m \u001b[1m0s\u001b[0m 985us/step - accuracy: 0.7976 - loss: 0.4969 - val_accuracy: 0.7969 - val_loss: 0.4963\n",
      "Epoch 85/100\n",
      "\u001b[1m128/128\u001b[0m \u001b[32m━━━━━━━━━━━━━━━━━━━━\u001b[0m\u001b[37m\u001b[0m \u001b[1m0s\u001b[0m 960us/step - accuracy: 0.7968 - loss: 0.4975 - val_accuracy: 0.7969 - val_loss: 0.4962\n",
      "Epoch 86/100\n",
      "\u001b[1m128/128\u001b[0m \u001b[32m━━━━━━━━━━━━━━━━━━━━\u001b[0m\u001b[37m\u001b[0m \u001b[1m0s\u001b[0m 993us/step - accuracy: 0.7987 - loss: 0.4970 - val_accuracy: 0.7969 - val_loss: 0.4963\n",
      "Epoch 87/100\n",
      "\u001b[1m128/128\u001b[0m \u001b[32m━━━━━━━━━━━━━━━━━━━━\u001b[0m\u001b[37m\u001b[0m \u001b[1m0s\u001b[0m 1ms/step - accuracy: 0.8058 - loss: 0.4833 - val_accuracy: 0.7969 - val_loss: 0.4966\n",
      "Epoch 88/100\n",
      "\u001b[1m128/128\u001b[0m \u001b[32m━━━━━━━━━━━━━━━━━━━━\u001b[0m\u001b[37m\u001b[0m \u001b[1m0s\u001b[0m 1ms/step - accuracy: 0.7972 - loss: 0.4979 - val_accuracy: 0.7969 - val_loss: 0.4965\n",
      "Epoch 89/100\n",
      "\u001b[1m128/128\u001b[0m \u001b[32m━━━━━━━━━━━━━━━━━━━━\u001b[0m\u001b[37m\u001b[0m \u001b[1m0s\u001b[0m 1ms/step - accuracy: 0.8033 - loss: 0.4895 - val_accuracy: 0.7969 - val_loss: 0.4965\n",
      "Epoch 90/100\n",
      "\u001b[1m128/128\u001b[0m \u001b[32m━━━━━━━━━━━━━━━━━━━━\u001b[0m\u001b[37m\u001b[0m \u001b[1m0s\u001b[0m 1ms/step - accuracy: 0.7944 - loss: 0.4997 - val_accuracy: 0.7969 - val_loss: 0.4963\n",
      "Epoch 91/100\n",
      "\u001b[1m128/128\u001b[0m \u001b[32m━━━━━━━━━━━━━━━━━━━━\u001b[0m\u001b[37m\u001b[0m \u001b[1m0s\u001b[0m 986us/step - accuracy: 0.7955 - loss: 0.4989 - val_accuracy: 0.7969 - val_loss: 0.4962\n",
      "Epoch 92/100\n",
      "\u001b[1m128/128\u001b[0m \u001b[32m━━━━━━━━━━━━━━━━━━━━\u001b[0m\u001b[37m\u001b[0m \u001b[1m0s\u001b[0m 869us/step - accuracy: 0.8012 - loss: 0.4943 - val_accuracy: 0.7969 - val_loss: 0.4964\n",
      "Epoch 93/100\n",
      "\u001b[1m128/128\u001b[0m \u001b[32m━━━━━━━━━━━━━━━━━━━━\u001b[0m\u001b[37m\u001b[0m \u001b[1m0s\u001b[0m 842us/step - accuracy: 0.7991 - loss: 0.4943 - val_accuracy: 0.7969 - val_loss: 0.4962\n",
      "Epoch 94/100\n",
      "\u001b[1m128/128\u001b[0m \u001b[32m━━━━━━━━━━━━━━━━━━━━\u001b[0m\u001b[37m\u001b[0m \u001b[1m0s\u001b[0m 919us/step - accuracy: 0.7923 - loss: 0.5020 - val_accuracy: 0.7969 - val_loss: 0.4963\n",
      "Epoch 95/100\n",
      "\u001b[1m128/128\u001b[0m \u001b[32m━━━━━━━━━━━━━━━━━━━━\u001b[0m\u001b[37m\u001b[0m \u001b[1m0s\u001b[0m 1ms/step - accuracy: 0.7958 - loss: 0.4988 - val_accuracy: 0.7969 - val_loss: 0.4963\n",
      "Epoch 96/100\n",
      "\u001b[1m128/128\u001b[0m \u001b[32m━━━━━━━━━━━━━━━━━━━━\u001b[0m\u001b[37m\u001b[0m \u001b[1m0s\u001b[0m 928us/step - accuracy: 0.7987 - loss: 0.4949 - val_accuracy: 0.7969 - val_loss: 0.4963\n",
      "Epoch 97/100\n",
      "\u001b[1m128/128\u001b[0m \u001b[32m━━━━━━━━━━━━━━━━━━━━\u001b[0m\u001b[37m\u001b[0m \u001b[1m0s\u001b[0m 1ms/step - accuracy: 0.7956 - loss: 0.4987 - val_accuracy: 0.7969 - val_loss: 0.4963\n",
      "Epoch 98/100\n",
      "\u001b[1m128/128\u001b[0m \u001b[32m━━━━━━━━━━━━━━━━━━━━\u001b[0m\u001b[37m\u001b[0m \u001b[1m0s\u001b[0m 1ms/step - accuracy: 0.7902 - loss: 0.5084 - val_accuracy: 0.7969 - val_loss: 0.4964\n",
      "Epoch 99/100\n",
      "\u001b[1m128/128\u001b[0m \u001b[32m━━━━━━━━━━━━━━━━━━━━\u001b[0m\u001b[37m\u001b[0m \u001b[1m0s\u001b[0m 944us/step - accuracy: 0.7952 - loss: 0.5011 - val_accuracy: 0.7969 - val_loss: 0.4962\n",
      "Epoch 100/100\n",
      "\u001b[1m128/128\u001b[0m \u001b[32m━━━━━━━━━━━━━━━━━━━━\u001b[0m\u001b[37m\u001b[0m \u001b[1m0s\u001b[0m 1ms/step - accuracy: 0.7981 - loss: 0.4961 - val_accuracy: 0.7969 - val_loss: 0.4962\n"
     ]
    }
   ],
   "source": [
    "history = model.fit(X_train,y_train,batch_size=50,epochs=100,verbose=1,validation_split=0.2)"
   ]
  },
  {
   "cell_type": "code",
   "execution_count": 18,
   "metadata": {},
   "outputs": [
    {
     "name": "stdout",
     "output_type": "stream",
     "text": [
      "\u001b[1m63/63\u001b[0m \u001b[32m━━━━━━━━━━━━━━━━━━━━\u001b[0m\u001b[37m\u001b[0m \u001b[1m0s\u001b[0m 856us/step\n"
     ]
    }
   ],
   "source": [
    "y_pred = model.predict(X_test)"
   ]
  },
  {
   "cell_type": "code",
   "execution_count": 19,
   "metadata": {},
   "outputs": [
    {
     "data": {
      "text/plain": [
       "array([[0.24183747],\n",
       "       [0.23720299],\n",
       "       [0.2366209 ],\n",
       "       ...,\n",
       "       [0.2366209 ],\n",
       "       [0.2366209 ],\n",
       "       [0.24183747]], dtype=float32)"
      ]
     },
     "execution_count": 19,
     "metadata": {},
     "output_type": "execute_result"
    }
   ],
   "source": [
    "y_pred"
   ]
  },
  {
   "cell_type": "code",
   "execution_count": 20,
   "metadata": {},
   "outputs": [],
   "source": [
    "y_pred = y_pred.argmax(axis=-1)"
   ]
  },
  {
   "cell_type": "code",
   "execution_count": 22,
   "metadata": {},
   "outputs": [
    {
     "data": {
      "text/plain": [
       "0.7975"
      ]
     },
     "execution_count": 22,
     "metadata": {},
     "output_type": "execute_result"
    }
   ],
   "source": [
    "from sklearn.metrics import accuracy_score\n",
    "accuracy_score(y_test,y_pred)"
   ]
  },
  {
   "cell_type": "code",
   "execution_count": 24,
   "metadata": {},
   "outputs": [
    {
     "name": "stdout",
     "output_type": "stream",
     "text": [
      "Collecting matplotlib\n",
      "  Downloading matplotlib-3.9.1.post1-cp311-cp311-win_amd64.whl.metadata (11 kB)\n",
      "Collecting contourpy>=1.0.1 (from matplotlib)\n",
      "  Using cached contourpy-1.2.1-cp311-cp311-win_amd64.whl.metadata (5.8 kB)\n",
      "Collecting cycler>=0.10 (from matplotlib)\n",
      "  Using cached cycler-0.12.1-py3-none-any.whl.metadata (3.8 kB)\n",
      "Collecting fonttools>=4.22.0 (from matplotlib)\n",
      "  Using cached fonttools-4.53.1-cp311-cp311-win_amd64.whl.metadata (165 kB)\n",
      "Collecting kiwisolver>=1.3.1 (from matplotlib)\n",
      "  Using cached kiwisolver-1.4.5-cp311-cp311-win_amd64.whl.metadata (6.5 kB)\n",
      "Requirement already satisfied: numpy>=1.23 in e:\\artificial_intelligence\\venv\\lib\\site-packages (from matplotlib) (1.26.4)\n",
      "Requirement already satisfied: packaging>=20.0 in e:\\artificial_intelligence\\venv\\lib\\site-packages (from matplotlib) (24.1)\n",
      "Requirement already satisfied: pillow>=8 in e:\\artificial_intelligence\\venv\\lib\\site-packages (from matplotlib) (10.4.0)\n",
      "Collecting pyparsing>=2.3.1 (from matplotlib)\n",
      "  Using cached pyparsing-3.1.2-py3-none-any.whl.metadata (5.1 kB)\n",
      "Requirement already satisfied: python-dateutil>=2.7 in e:\\artificial_intelligence\\venv\\lib\\site-packages (from matplotlib) (2.9.0.post0)\n",
      "Requirement already satisfied: six>=1.5 in e:\\artificial_intelligence\\venv\\lib\\site-packages (from python-dateutil>=2.7->matplotlib) (1.16.0)\n",
      "Downloading matplotlib-3.9.1.post1-cp311-cp311-win_amd64.whl (8.0 MB)\n",
      "   ---------------------------------------- 0.0/8.0 MB ? eta -:--:--\n",
      "   ---------------------------------------- 0.0/8.0 MB ? eta -:--:--\n",
      "   ---------------------------------------- 0.0/8.0 MB ? eta -:--:--\n",
      "   ---------------------------------------- 0.1/8.0 MB 648.1 kB/s eta 0:00:13\n",
      "    --------------------------------------- 0.1/8.0 MB 930.9 kB/s eta 0:00:09\n",
      "    --------------------------------------- 0.1/8.0 MB 847.9 kB/s eta 0:00:10\n",
      "   - -------------------------------------- 0.2/8.0 MB 935.2 kB/s eta 0:00:09\n",
      "   - -------------------------------------- 0.3/8.0 MB 1.1 MB/s eta 0:00:07\n",
      "   - -------------------------------------- 0.4/8.0 MB 1.2 MB/s eta 0:00:07\n",
      "   -- ------------------------------------- 0.5/8.0 MB 1.2 MB/s eta 0:00:07\n",
      "   -- ------------------------------------- 0.5/8.0 MB 1.3 MB/s eta 0:00:06\n",
      "   -- ------------------------------------- 0.6/8.0 MB 1.4 MB/s eta 0:00:06\n",
      "   --- ------------------------------------ 0.6/8.0 MB 1.3 MB/s eta 0:00:06\n",
      "   --- ------------------------------------ 0.7/8.0 MB 1.3 MB/s eta 0:00:06\n",
      "   --- ------------------------------------ 0.8/8.0 MB 1.3 MB/s eta 0:00:06\n",
      "   ---- ----------------------------------- 0.8/8.0 MB 1.3 MB/s eta 0:00:06\n",
      "   ---- ----------------------------------- 0.9/8.0 MB 1.3 MB/s eta 0:00:06\n",
      "   ---- ----------------------------------- 1.0/8.0 MB 1.4 MB/s eta 0:00:06\n",
      "   ----- ---------------------------------- 1.1/8.0 MB 1.4 MB/s eta 0:00:05\n",
      "   ----- ---------------------------------- 1.1/8.0 MB 1.4 MB/s eta 0:00:05\n",
      "   ----- ---------------------------------- 1.2/8.0 MB 1.4 MB/s eta 0:00:05\n",
      "   ------ --------------------------------- 1.2/8.0 MB 1.4 MB/s eta 0:00:05\n",
      "   ------ --------------------------------- 1.3/8.0 MB 1.3 MB/s eta 0:00:05\n",
      "   ------ --------------------------------- 1.3/8.0 MB 1.3 MB/s eta 0:00:06\n",
      "   ------- -------------------------------- 1.4/8.0 MB 1.3 MB/s eta 0:00:05\n",
      "   ------- -------------------------------- 1.4/8.0 MB 1.3 MB/s eta 0:00:05\n",
      "   ------- -------------------------------- 1.5/8.0 MB 1.3 MB/s eta 0:00:05\n",
      "   -------- ------------------------------- 1.6/8.0 MB 1.3 MB/s eta 0:00:05\n",
      "   -------- ------------------------------- 1.7/8.0 MB 1.4 MB/s eta 0:00:05\n",
      "   -------- ------------------------------- 1.7/8.0 MB 1.3 MB/s eta 0:00:05\n",
      "   -------- ------------------------------- 1.8/8.0 MB 1.3 MB/s eta 0:00:05\n",
      "   --------- ------------------------------ 1.9/8.0 MB 1.4 MB/s eta 0:00:05\n",
      "   --------- ------------------------------ 1.9/8.0 MB 1.4 MB/s eta 0:00:05\n",
      "   ---------- ----------------------------- 2.0/8.0 MB 1.4 MB/s eta 0:00:05\n",
      "   ---------- ----------------------------- 2.1/8.0 MB 1.4 MB/s eta 0:00:05\n",
      "   ---------- ----------------------------- 2.2/8.0 MB 1.4 MB/s eta 0:00:05\n",
      "   ----------- ---------------------------- 2.3/8.0 MB 1.4 MB/s eta 0:00:05\n",
      "   ----------- ---------------------------- 2.3/8.0 MB 1.4 MB/s eta 0:00:04\n",
      "   ------------ --------------------------- 2.4/8.0 MB 1.4 MB/s eta 0:00:04\n",
      "   ------------ --------------------------- 2.5/8.0 MB 1.5 MB/s eta 0:00:04\n",
      "   ------------- -------------------------- 2.6/8.0 MB 1.5 MB/s eta 0:00:04\n",
      "   ------------- -------------------------- 2.7/8.0 MB 1.5 MB/s eta 0:00:04\n",
      "   ------------- -------------------------- 2.7/8.0 MB 1.4 MB/s eta 0:00:04\n",
      "   ------------- -------------------------- 2.7/8.0 MB 1.4 MB/s eta 0:00:04\n",
      "   ------------- -------------------------- 2.7/8.0 MB 1.4 MB/s eta 0:00:04\n",
      "   ------------- -------------------------- 2.7/8.0 MB 1.4 MB/s eta 0:00:04\n",
      "   ------------- -------------------------- 2.7/8.0 MB 1.3 MB/s eta 0:00:04\n",
      "   ------------- -------------------------- 2.7/8.0 MB 1.3 MB/s eta 0:00:04\n",
      "   ------------- -------------------------- 2.7/8.0 MB 1.3 MB/s eta 0:00:04\n",
      "   ------------- -------------------------- 2.7/8.0 MB 1.3 MB/s eta 0:00:04\n",
      "   -------------- ------------------------- 2.8/8.0 MB 1.2 MB/s eta 0:00:05\n",
      "   -------------- ------------------------- 2.8/8.0 MB 1.2 MB/s eta 0:00:05\n",
      "   -------------- ------------------------- 2.8/8.0 MB 1.2 MB/s eta 0:00:05\n",
      "   -------------- ------------------------- 2.8/8.0 MB 1.2 MB/s eta 0:00:05\n",
      "   -------------- ------------------------- 2.8/8.0 MB 1.2 MB/s eta 0:00:05\n",
      "   -------------- ------------------------- 2.8/8.0 MB 1.2 MB/s eta 0:00:05\n",
      "   -------------- ------------------------- 2.8/8.0 MB 1.2 MB/s eta 0:00:05\n",
      "   -------------- ------------------------- 2.8/8.0 MB 1.1 MB/s eta 0:00:05\n",
      "   -------------- ------------------------- 2.8/8.0 MB 1.1 MB/s eta 0:00:05\n",
      "   -------------- ------------------------- 2.9/8.0 MB 1.1 MB/s eta 0:00:05\n",
      "   -------------- ------------------------- 2.9/8.0 MB 1.1 MB/s eta 0:00:05\n",
      "   -------------- ------------------------- 2.9/8.0 MB 1.1 MB/s eta 0:00:05\n",
      "   -------------- ------------------------- 2.9/8.0 MB 1.0 MB/s eta 0:00:05\n",
      "   -------------- ------------------------- 3.0/8.0 MB 1.0 MB/s eta 0:00:05\n",
      "   -------------- ------------------------- 3.0/8.0 MB 1.0 MB/s eta 0:00:05\n",
      "   -------------- ------------------------- 3.0/8.0 MB 1.0 MB/s eta 0:00:05\n",
      "   -------------- ------------------------- 3.0/8.0 MB 1.0 MB/s eta 0:00:05\n",
      "   --------------- ------------------------ 3.0/8.0 MB 993.3 kB/s eta 0:00:06\n",
      "   --------------- ------------------------ 3.0/8.0 MB 993.3 kB/s eta 0:00:06\n",
      "   --------------- ------------------------ 3.0/8.0 MB 993.3 kB/s eta 0:00:06\n",
      "   --------------- ------------------------ 3.0/8.0 MB 958.5 kB/s eta 0:00:06\n",
      "   --------------- ------------------------ 3.0/8.0 MB 950.8 kB/s eta 0:00:06\n",
      "   --------------- ------------------------ 3.0/8.0 MB 950.8 kB/s eta 0:00:06\n",
      "   --------------- ------------------------ 3.0/8.0 MB 950.8 kB/s eta 0:00:06\n",
      "   --------------- ------------------------ 3.0/8.0 MB 950.8 kB/s eta 0:00:06\n",
      "   --------------- ------------------------ 3.1/8.0 MB 892.7 kB/s eta 0:00:06\n",
      "   --------------- ------------------------ 3.1/8.0 MB 892.7 kB/s eta 0:00:06\n",
      "   --------------- ------------------------ 3.1/8.0 MB 882.6 kB/s eta 0:00:06\n",
      "   --------------- ------------------------ 3.1/8.0 MB 869.0 kB/s eta 0:00:06\n",
      "   --------------- ------------------------ 3.1/8.0 MB 869.0 kB/s eta 0:00:06\n",
      "   --------------- ------------------------ 3.1/8.0 MB 855.0 kB/s eta 0:00:06\n",
      "   --------------- ------------------------ 3.1/8.0 MB 855.0 kB/s eta 0:00:06\n",
      "   --------------- ------------------------ 3.1/8.0 MB 846.0 kB/s eta 0:00:06\n",
      "   --------------- ------------------------ 3.1/8.0 MB 846.0 kB/s eta 0:00:06\n",
      "   --------------- ------------------------ 3.1/8.0 MB 846.0 kB/s eta 0:00:06\n",
      "   --------------- ------------------------ 3.2/8.0 MB 814.4 kB/s eta 0:00:06\n",
      "   --------------- ------------------------ 3.2/8.0 MB 814.4 kB/s eta 0:00:06\n",
      "   --------------- ------------------------ 3.2/8.0 MB 814.4 kB/s eta 0:00:06\n",
      "   --------------- ------------------------ 3.2/8.0 MB 814.4 kB/s eta 0:00:06\n",
      "   --------------- ------------------------ 3.2/8.0 MB 778.8 kB/s eta 0:00:07\n",
      "   ---------------- ----------------------- 3.2/8.0 MB 777.9 kB/s eta 0:00:07\n",
      "   ---------------- ----------------------- 3.2/8.0 MB 777.9 kB/s eta 0:00:07\n",
      "   ---------------- ----------------------- 3.2/8.0 MB 764.8 kB/s eta 0:00:07\n",
      "   ---------------- ----------------------- 3.2/8.0 MB 761.7 kB/s eta 0:00:07\n",
      "   ---------------- ----------------------- 3.2/8.0 MB 761.7 kB/s eta 0:00:07\n",
      "   ---------------- ----------------------- 3.2/8.0 MB 761.7 kB/s eta 0:00:07\n",
      "   ---------------- ----------------------- 3.2/8.0 MB 761.7 kB/s eta 0:00:07\n",
      "   ---------------- ----------------------- 3.2/8.0 MB 761.7 kB/s eta 0:00:07\n",
      "   ---------------- ----------------------- 3.3/8.0 MB 735.5 kB/s eta 0:00:07\n",
      "   ---------------- ----------------------- 3.3/8.0 MB 736.6 kB/s eta 0:00:07\n",
      "   ---------------- ----------------------- 3.4/8.0 MB 738.7 kB/s eta 0:00:07\n",
      "   ---------------- ----------------------- 3.4/8.0 MB 738.7 kB/s eta 0:00:07\n",
      "   ---------------- ----------------------- 3.4/8.0 MB 738.7 kB/s eta 0:00:07\n",
      "   ----------------- ---------------------- 3.4/8.0 MB 724.9 kB/s eta 0:00:07\n",
      "   ----------------- ---------------------- 3.5/8.0 MB 728.4 kB/s eta 0:00:07\n",
      "   ----------------- ---------------------- 3.5/8.0 MB 730.1 kB/s eta 0:00:07\n",
      "   ----------------- ---------------------- 3.5/8.0 MB 727.2 kB/s eta 0:00:07\n",
      "   ----------------- ---------------------- 3.5/8.0 MB 724.7 kB/s eta 0:00:07\n",
      "   ----------------- ---------------------- 3.5/8.0 MB 724.7 kB/s eta 0:00:07\n",
      "   ----------------- ---------------------- 3.6/8.0 MB 716.9 kB/s eta 0:00:07\n",
      "   ------------------ --------------------- 3.6/8.0 MB 716.3 kB/s eta 0:00:07\n",
      "   ------------------ --------------------- 3.6/8.0 MB 716.3 kB/s eta 0:00:07\n",
      "   ------------------ --------------------- 3.7/8.0 MB 713.3 kB/s eta 0:00:07\n",
      "   ------------------ --------------------- 3.7/8.0 MB 712.5 kB/s eta 0:00:06\n",
      "   ------------------ --------------------- 3.8/8.0 MB 719.8 kB/s eta 0:00:06\n",
      "   ------------------- -------------------- 3.8/8.0 MB 725.3 kB/s eta 0:00:06\n",
      "   ------------------- -------------------- 3.8/8.0 MB 725.3 kB/s eta 0:00:06\n",
      "   ------------------- -------------------- 3.8/8.0 MB 725.3 kB/s eta 0:00:06\n",
      "   ------------------- -------------------- 3.8/8.0 MB 712.5 kB/s eta 0:00:06\n",
      "   ------------------- -------------------- 3.9/8.0 MB 713.7 kB/s eta 0:00:06\n",
      "   ------------------- -------------------- 3.9/8.0 MB 711.2 kB/s eta 0:00:06\n",
      "   ------------------- -------------------- 4.0/8.0 MB 714.4 kB/s eta 0:00:06\n",
      "   -------------------- ------------------- 4.1/8.0 MB 723.1 kB/s eta 0:00:06\n",
      "   -------------------- ------------------- 4.2/8.0 MB 735.2 kB/s eta 0:00:06\n",
      "   --------------------- ------------------ 4.2/8.0 MB 734.5 kB/s eta 0:00:06\n",
      "   --------------------- ------------------ 4.4/8.0 MB 758.8 kB/s eta 0:00:05\n",
      "   --------------------- ------------------ 4.4/8.0 MB 758.8 kB/s eta 0:00:05\n",
      "   ---------------------- ----------------- 4.5/8.0 MB 766.3 kB/s eta 0:00:05\n",
      "   ---------------------- ----------------- 4.5/8.0 MB 770.6 kB/s eta 0:00:05\n",
      "   ----------------------- ---------------- 4.6/8.0 MB 778.4 kB/s eta 0:00:05\n",
      "   ----------------------- ---------------- 4.7/8.0 MB 785.7 kB/s eta 0:00:05\n",
      "   ------------------------ --------------- 4.8/8.0 MB 794.9 kB/s eta 0:00:04\n",
      "   ------------------------ --------------- 4.9/8.0 MB 805.6 kB/s eta 0:00:04\n",
      "   ------------------------ --------------- 4.9/8.0 MB 808.6 kB/s eta 0:00:04\n",
      "   ------------------------ --------------- 5.0/8.0 MB 808.7 kB/s eta 0:00:04\n",
      "   ------------------------- -------------- 5.0/8.0 MB 807.1 kB/s eta 0:00:04\n",
      "   ------------------------- -------------- 5.0/8.0 MB 807.1 kB/s eta 0:00:04\n",
      "   ------------------------- -------------- 5.1/8.0 MB 806.6 kB/s eta 0:00:04\n",
      "   ------------------------- -------------- 5.1/8.0 MB 802.2 kB/s eta 0:00:04\n",
      "   ------------------------- -------------- 5.2/8.0 MB 806.3 kB/s eta 0:00:04\n",
      "   ------------------------- -------------- 5.2/8.0 MB 803.6 kB/s eta 0:00:04\n",
      "   -------------------------- ------------- 5.2/8.0 MB 805.3 kB/s eta 0:00:04\n",
      "   -------------------------- ------------- 5.3/8.0 MB 804.2 kB/s eta 0:00:04\n",
      "   -------------------------- ------------- 5.3/8.0 MB 808.2 kB/s eta 0:00:04\n",
      "   -------------------------- ------------- 5.4/8.0 MB 810.2 kB/s eta 0:00:04\n",
      "   --------------------------- ------------ 5.4/8.0 MB 811.9 kB/s eta 0:00:04\n",
      "   --------------------------- ------------ 5.5/8.0 MB 818.7 kB/s eta 0:00:04\n",
      "   --------------------------- ------------ 5.6/8.0 MB 822.2 kB/s eta 0:00:03\n",
      "   ---------------------------- ----------- 5.6/8.0 MB 824.1 kB/s eta 0:00:03\n",
      "   ---------------------------- ----------- 5.7/8.0 MB 825.5 kB/s eta 0:00:03\n",
      "   ---------------------------- ----------- 5.8/8.0 MB 833.6 kB/s eta 0:00:03\n",
      "   ----------------------------- ---------- 5.8/8.0 MB 836.4 kB/s eta 0:00:03\n",
      "   ------------------------------ --------- 6.0/8.0 MB 858.7 kB/s eta 0:00:03\n",
      "   ------------------------------ --------- 6.1/8.0 MB 866.4 kB/s eta 0:00:03\n",
      "   ------------------------------ --------- 6.2/8.0 MB 869.4 kB/s eta 0:00:03\n",
      "   ------------------------------- -------- 6.2/8.0 MB 870.4 kB/s eta 0:00:03\n",
      "   ------------------------------- -------- 6.2/8.0 MB 867.6 kB/s eta 0:00:03\n",
      "   ------------------------------- -------- 6.3/8.0 MB 868.5 kB/s eta 0:00:02\n",
      "   ------------------------------- -------- 6.3/8.0 MB 866.2 kB/s eta 0:00:02\n",
      "   ------------------------------- -------- 6.4/8.0 MB 867.7 kB/s eta 0:00:02\n",
      "   -------------------------------- ------- 6.4/8.0 MB 872.0 kB/s eta 0:00:02\n",
      "   -------------------------------- ------- 6.5/8.0 MB 875.1 kB/s eta 0:00:02\n",
      "   --------------------------------- ------ 6.6/8.0 MB 878.8 kB/s eta 0:00:02\n",
      "   --------------------------------- ------ 6.6/8.0 MB 878.8 kB/s eta 0:00:02\n",
      "   --------------------------------- ------ 6.6/8.0 MB 876.0 kB/s eta 0:00:02\n",
      "   --------------------------------- ------ 6.7/8.0 MB 879.2 kB/s eta 0:00:02\n",
      "   --------------------------------- ------ 6.7/8.0 MB 880.5 kB/s eta 0:00:02\n",
      "   --------------------------------- ------ 6.7/8.0 MB 880.5 kB/s eta 0:00:02\n",
      "   --------------------------------- ------ 6.7/8.0 MB 880.5 kB/s eta 0:00:02\n",
      "   ---------------------------------- ----- 6.8/8.0 MB 873.7 kB/s eta 0:00:02\n",
      "   ---------------------------------- ----- 6.8/8.0 MB 873.7 kB/s eta 0:00:02\n",
      "   ---------------------------------- ----- 6.8/8.0 MB 873.7 kB/s eta 0:00:02\n",
      "   ---------------------------------- ----- 6.8/8.0 MB 861.2 kB/s eta 0:00:02\n",
      "   ---------------------------------- ----- 6.8/8.0 MB 858.7 kB/s eta 0:00:02\n",
      "   ---------------------------------- ----- 6.9/8.0 MB 857.9 kB/s eta 0:00:02\n",
      "   ---------------------------------- ----- 6.9/8.0 MB 854.2 kB/s eta 0:00:02\n",
      "   ---------------------------------- ----- 6.9/8.0 MB 854.2 kB/s eta 0:00:02\n",
      "   ---------------------------------- ----- 6.9/8.0 MB 844.9 kB/s eta 0:00:02\n",
      "   ---------------------------------- ----- 6.9/8.0 MB 844.9 kB/s eta 0:00:02\n",
      "   ---------------------------------- ----- 7.0/8.0 MB 843.1 kB/s eta 0:00:02\n",
      "   ----------------------------------- ---- 7.0/8.0 MB 842.0 kB/s eta 0:00:02\n",
      "   ----------------------------------- ---- 7.0/8.0 MB 841.9 kB/s eta 0:00:02\n",
      "   ----------------------------------- ---- 7.1/8.0 MB 843.3 kB/s eta 0:00:02\n",
      "   ----------------------------------- ---- 7.1/8.0 MB 846.2 kB/s eta 0:00:01\n",
      "   ------------------------------------ --- 7.2/8.0 MB 847.2 kB/s eta 0:00:01\n",
      "   ------------------------------------ --- 7.2/8.0 MB 847.7 kB/s eta 0:00:01\n",
      "   ------------------------------------ --- 7.3/8.0 MB 849.9 kB/s eta 0:00:01\n",
      "   ------------------------------------- -- 7.4/8.0 MB 853.6 kB/s eta 0:00:01\n",
      "   ------------------------------------- -- 7.4/8.0 MB 855.2 kB/s eta 0:00:01\n",
      "   ------------------------------------- -- 7.5/8.0 MB 858.5 kB/s eta 0:00:01\n",
      "   ------------------------------------- -- 7.6/8.0 MB 863.7 kB/s eta 0:00:01\n",
      "   -------------------------------------- - 7.6/8.0 MB 866.0 kB/s eta 0:00:01\n",
      "   -------------------------------------- - 7.6/8.0 MB 866.0 kB/s eta 0:00:01\n",
      "   -------------------------------------- - 7.7/8.0 MB 861.9 kB/s eta 0:00:01\n",
      "   -------------------------------------- - 7.7/8.0 MB 865.0 kB/s eta 0:00:01\n",
      "   ---------------------------------------  7.9/8.0 MB 879.5 kB/s eta 0:00:01\n",
      "   ---------------------------------------- 8.0/8.0 MB 881.1 kB/s eta 0:00:00\n",
      "Using cached contourpy-1.2.1-cp311-cp311-win_amd64.whl (188 kB)\n",
      "Using cached cycler-0.12.1-py3-none-any.whl (8.3 kB)\n",
      "Using cached fonttools-4.53.1-cp311-cp311-win_amd64.whl (2.2 MB)\n",
      "Using cached kiwisolver-1.4.5-cp311-cp311-win_amd64.whl (56 kB)\n",
      "Using cached pyparsing-3.1.2-py3-none-any.whl (103 kB)\n",
      "Installing collected packages: pyparsing, kiwisolver, fonttools, cycler, contourpy, matplotlib\n",
      "Successfully installed contourpy-1.2.1 cycler-0.12.1 fonttools-4.53.1 kiwisolver-1.4.5 matplotlib-3.9.1.post1 pyparsing-3.1.2\n"
     ]
    }
   ],
   "source": [
    "!pip install matplotlib"
   ]
  },
  {
   "cell_type": "code",
   "execution_count": 25,
   "metadata": {},
   "outputs": [
    {
     "data": {
      "text/plain": [
       "[<matplotlib.lines.Line2D at 0x1539eb49710>]"
      ]
     },
     "execution_count": 25,
     "metadata": {},
     "output_type": "execute_result"
    },
    {
     "data": {
      "image/png": "[encoded data removed]",
      "text/plain": [
       "<Figure size 640x480 with 1 Axes>"
      ]
     },
     "metadata": {},
     "output_type": "display_data"
    }
   ],
   "source": [
    "import matplotlib.pyplot as plt\n",
    "\n",
    "plt.plot(history.history['loss'])\n",
    "plt.plot(history.history['val_loss'])"
   ]
  },
  {
   "cell_type": "code",
   "execution_count": 26,
   "metadata": {},
   "outputs": [
    {
     "data": {
      "text/plain": [
       "[<matplotlib.lines.Line2D at 0x1539ec26b10>]"
      ]
     },
     "execution_count": 26,
     "metadata": {},
     "output_type": "execute_result"
    },
    {
     "data": {
      "image/png": "[encoded data removed]",
      "text/plain": [
       "<Figure size 640x480 with 1 Axes>"
      ]
     },
     "metadata": {},
     "output_type": "display_data"
    }
   ],
   "source": [
    "plt.plot(history.history['accuracy'])\n",
    "plt.plot(history.history['val_accuracy'])"
   ]
  }
 ],
 "metadata": {
  "kernelspec": {
   "display_name": "Python 3",
   "language": "python",
   "name": "python3"
  },
  "language_info": {
   "codemirror_mode": {
    "name": "ipython",
    "version": 3
   },
   "file_extension": ".py",
   "mimetype": "text/x-python",
   "name": "python",
   "nbconvert_exporter": "python",
   "pygments_lexer": "ipython3",
   "version": "3.11.5"
  }
 },
 "nbformat": 4,
 "nbformat_minor": 2
}
